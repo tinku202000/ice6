{
  "nbformat": 4,
  "nbformat_minor": 0,
  "metadata": {
    "colab": {
      "provenance": [],
      "collapsed_sections": []
    },
    "kernelspec": {
      "name": "python3",
      "display_name": "Python 3"
    },
    "language_info": {
      "name": "python"
    }
  },
  "cells": [
    {
      "cell_type": "markdown",
      "source": [
        "This is Tinku"
      ],
      "metadata": {
        "id": "Vdhh5I56-CKq"
      }
    },
    {
      "cell_type": "code",
      "execution_count": null,
      "metadata": {
        "id": "AxQMA_qCjo8G",
        "colab": {
          "base_uri": "https://localhost:8080/"
        },
        "outputId": "c7cdee0b-4407-4dd0-df94-868334c25687"
      },
      "outputs": [
        {
          "output_type": "stream",
          "name": "stdout",
          "text": [
            "Drive already mounted at /content/drive; to attempt to forcibly remount, call drive.mount(\"/content/drive\", force_remount=True).\n"
          ]
        }
      ],
      "source": [
        "from google.colab import drive\n",
        "drive.mount('/content/drive')"
      ]
    },
    {
      "cell_type": "code",
      "source": [
        "!pip install Adam"
      ],
      "metadata": {
        "colab": {
          "base_uri": "https://localhost:8080/"
        },
        "id": "qiIUuKkFemmi",
        "outputId": "51111466-f196-4c26-a2a8-3ba35c63dd13"
      },
      "execution_count": null,
      "outputs": [
        {
          "output_type": "stream",
          "name": "stdout",
          "text": [
            "Looking in indexes: https://pypi.org/simple, https://us-python.pkg.dev/colab-wheels/public/simple/\n",
            "Requirement already satisfied: Adam in /usr/local/lib/python3.7/dist-packages (0.0.0.dev0)\n"
          ]
        }
      ]
    },
    {
      "cell_type": "code",
      "source": [
        "import matplotlib.pyplot as plt\n",
        "import seaborn as sns\n",
        "\n",
        "import keras\n",
        "from keras.models import Sequential\n",
        "from keras.layers import Dense, Conv2D , MaxPool2D , Flatten , Dropout \n",
        "from keras.preprocessing.image import ImageDataGenerator\n",
        "from tensorflow.keras.optimizers import Adam\n",
        "\n",
        "from sklearn.metrics import classification_report,confusion_matrix\n",
        "\n",
        "import tensorflow as tf\n",
        "\n",
        "import cv2\n",
        "import os\n",
        "\n",
        "import numpy as np\n"
      ],
      "metadata": {
        "id": "r0vfuWe1j81C"
      },
      "execution_count": null,
      "outputs": []
    },
    {
      "cell_type": "code",
      "source": [
        "labels = ['rugby', 'soccer']\n",
        "img_size = 224\n",
        "#data_dir=\"/content/drive/MyDrive/data_dir\"\n",
        "def get_data(data_dir):\n",
        "    data = [] \n",
        "    for label in labels: \n",
        "        path = os.path.join(data_dir, label)\n",
        "        class_num = labels.index(label)\n",
        "        for img in os.listdir(path):\n",
        "            try:\n",
        "                img_arr = cv2.imread(os.path.join(path, img))[...,::-1] #convert BGR to RGB format\n",
        "                resized_arr = cv2.resize(img_arr, (img_size, img_size)) # Reshaping images to preferred size\n",
        "                data.append([resized_arr, class_num])\n",
        "            except Exception as e:\n",
        "                print(e)\n",
        "    return np.array(data)"
      ],
      "metadata": {
        "id": "F_oTYym_j-7_"
      },
      "execution_count": null,
      "outputs": []
    },
    {
      "cell_type": "code",
      "source": [
        "\n",
        "train = get_data('/content/drive/MyDrive/train')\n",
        "val = get_data('/content/drive/MyDrive/test')\n",
        " "
      ],
      "metadata": {
        "id": "MDpavmDykKhB",
        "colab": {
          "base_uri": "https://localhost:8080/"
        },
        "outputId": "e46c8601-900f-49e0-de85-76e95c2125da"
      },
      "execution_count": null,
      "outputs": [
        {
          "output_type": "stream",
          "name": "stderr",
          "text": [
            "/usr/local/lib/python3.7/dist-packages/ipykernel_launcher.py:16: VisibleDeprecationWarning: Creating an ndarray from ragged nested sequences (which is a list-or-tuple of lists-or-tuples-or ndarrays with different lengths or shapes) is deprecated. If you meant to do this, you must specify 'dtype=object' when creating the ndarray.\n",
            "  app.launch_new_instance()\n"
          ]
        }
      ]
    },
    {
      "cell_type": "code",
      "source": [
        "a_train = []\n",
        "b_train = []\n",
        "a_val = []\n",
        "b_val = []\n",
        "\n",
        "for feature, label in train:\n",
        "  a_train.append(feature)\n",
        "  b_train.append(label)\n",
        "\n",
        "for feature, label in val:\n",
        "  a_val.append(feature)\n",
        "  b_val.append(label)\n",
        "\n",
        "# Normalize the data\n",
        "a_train = np.array(a_train) / 255\n",
        "a_val = np.array(a_val) / 255\n",
        "\n",
        "a_train.reshape(-1, img_size, img_size, 1)\n",
        "b_train = np.array(b_train)\n",
        "\n",
        "a_val.reshape(-1, img_size, img_size, 1)\n",
        "b_val = np.array(b_val)"
      ],
      "metadata": {
        "id": "54LAQk64kLQc"
      },
      "execution_count": null,
      "outputs": []
    },
    {
      "cell_type": "code",
      "source": [
        "datagen = ImageDataGenerator(\n",
        "        featurewise_center=False,  \n",
        "        samplewise_center=False,  \n",
        "        featurewise_std_normalization=False,  \n",
        "        samplewise_std_normalization=False,  \n",
        "        zca_whitening=False,  \n",
        "        rotation_range = 30,  \n",
        "        zoom_range = 0.2,  \n",
        "        width_shift_range=0.1,  \n",
        "        height_shift_range=0.1,  \n",
        "        horizontal_flip = True,  \n",
        "        vertical_flip=False) \n",
        "\n",
        "\n",
        "datagen.fit(a_train)"
      ],
      "metadata": {
        "id": "7G6AYuLzkUPG"
      },
      "execution_count": null,
      "outputs": []
    },
    {
      "cell_type": "code",
      "source": [
        "model = Sequential()\n",
        "model.add(Conv2D(32,3,padding=\"same\", activation=\"relu\", input_shape=(224,224,3)))\n",
        "model.add(MaxPool2D())\n",
        "\n",
        "model.add(Conv2D(32, 3, padding=\"same\", activation=\"relu\"))\n",
        "model.add(MaxPool2D())\n",
        "\n",
        "model.add(Conv2D(64, 3, padding=\"same\", activation=\"relu\"))\n",
        "model.add(MaxPool2D())\n",
        "model.add(Dropout(0.4))\n",
        "\n",
        "model.add(Flatten())\n",
        "model.add(Dense(128,activation=\"relu\"))\n",
        "model.add(Dense(2, activation=\"softmax\"))\n",
        "\n",
        "model.summary()"
      ],
      "metadata": {
        "id": "8Cyg1LxQkYqZ",
        "colab": {
          "base_uri": "https://localhost:8080/"
        },
        "outputId": "a79db1ba-364b-4d88-df7c-1ac8df0a1238"
      },
      "execution_count": null,
      "outputs": [
        {
          "output_type": "stream",
          "name": "stdout",
          "text": [
            "Model: \"sequential\"\n",
            "_________________________________________________________________\n",
            " Layer (type)                Output Shape              Param #   \n",
            "=================================================================\n",
            " conv2d (Conv2D)             (None, 224, 224, 32)      896       \n",
            "                                                                 \n",
            " max_pooling2d (MaxPooling2D  (None, 112, 112, 32)     0         \n",
            " )                                                               \n",
            "                                                                 \n",
            " conv2d_1 (Conv2D)           (None, 112, 112, 32)      9248      \n",
            "                                                                 \n",
            " max_pooling2d_1 (MaxPooling  (None, 56, 56, 32)       0         \n",
            " 2D)                                                             \n",
            "                                                                 \n",
            " conv2d_2 (Conv2D)           (None, 56, 56, 64)        18496     \n",
            "                                                                 \n",
            " max_pooling2d_2 (MaxPooling  (None, 28, 28, 64)       0         \n",
            " 2D)                                                             \n",
            "                                                                 \n",
            " dropout (Dropout)           (None, 28, 28, 64)        0         \n",
            "                                                                 \n",
            " flatten (Flatten)           (None, 50176)             0         \n",
            "                                                                 \n",
            " dense (Dense)               (None, 128)               6422656   \n",
            "                                                                 \n",
            " dense_1 (Dense)             (None, 2)                 258       \n",
            "                                                                 \n",
            "=================================================================\n",
            "Total params: 6,451,554\n",
            "Trainable params: 6,451,554\n",
            "Non-trainable params: 0\n",
            "_________________________________________________________________\n"
          ]
        }
      ]
    },
    {
      "cell_type": "code",
      "source": [
        "opt = Adam(learning_rate=0.0001)\n",
        "model.compile(optimizer = opt , loss = tf.keras.losses.SparseCategoricalCrossentropy(from_logits=True) , metrics = ['accuracy'])"
      ],
      "metadata": {
        "id": "8NIBzYwikakj"
      },
      "execution_count": null,
      "outputs": []
    },
    {
      "cell_type": "code",
      "source": [
        "history = model.fit(a_train,b_train,epochs = 10 , validation_data = (a_val, b_val))\n",
        "\n"
      ],
      "metadata": {
        "id": "SRk8AXkQkeef",
        "colab": {
          "base_uri": "https://localhost:8080/"
        },
        "outputId": "4c8bc1b6-2d6c-4227-eb46-94c816dddd06"
      },
      "execution_count": null,
      "outputs": [
        {
          "output_type": "stream",
          "name": "stdout",
          "text": [
            "Epoch 1/10\n"
          ]
        },
        {
          "output_type": "stream",
          "name": "stderr",
          "text": [
            "/usr/local/lib/python3.7/dist-packages/tensorflow/python/util/dispatch.py:1082: UserWarning: \"`sparse_categorical_crossentropy` received `from_logits=True`, but the `output` argument was produced by a sigmoid or softmax activation and thus does not represent logits. Was this intended?\"\n",
            "  return dispatch_target(*args, **kwargs)\n"
          ]
        },
        {
          "output_type": "stream",
          "name": "stdout",
          "text": [
            "77/77 [==============================] - 164s 2s/step - loss: 0.6815 - accuracy: 0.5675 - val_loss: 0.6464 - val_accuracy: 0.6262\n",
            "Epoch 2/10\n",
            "77/77 [==============================] - 162s 2s/step - loss: 0.6192 - accuracy: 0.6634 - val_loss: 0.5866 - val_accuracy: 0.7115\n",
            "Epoch 3/10\n",
            "77/77 [==============================] - 160s 2s/step - loss: 0.5858 - accuracy: 0.6916 - val_loss: 0.5764 - val_accuracy: 0.7049\n",
            "Epoch 4/10\n",
            "77/77 [==============================] - 160s 2s/step - loss: 0.5456 - accuracy: 0.7250 - val_loss: 0.5131 - val_accuracy: 0.7721\n",
            "Epoch 5/10\n",
            "77/77 [==============================] - 161s 2s/step - loss: 0.5068 - accuracy: 0.7564 - val_loss: 0.4648 - val_accuracy: 0.8197\n",
            "Epoch 6/10\n",
            "77/77 [==============================] - 166s 2s/step - loss: 0.4662 - accuracy: 0.7878 - val_loss: 0.4313 - val_accuracy: 0.8262\n",
            "Epoch 7/10\n",
            "77/77 [==============================] - 166s 2s/step - loss: 0.4508 - accuracy: 0.7956 - val_loss: 0.5124 - val_accuracy: 0.7328\n",
            "Epoch 8/10\n",
            "77/77 [==============================] - 165s 2s/step - loss: 0.4327 - accuracy: 0.7980 - val_loss: 0.4193 - val_accuracy: 0.8344\n",
            "Epoch 9/10\n",
            "77/77 [==============================] - 165s 2s/step - loss: 0.3964 - accuracy: 0.8299 - val_loss: 0.4157 - val_accuracy: 0.8311\n",
            "Epoch 10/10\n",
            "77/77 [==============================] - 165s 2s/step - loss: 0.3748 - accuracy: 0.8409 - val_loss: 0.4459 - val_accuracy: 0.8066\n"
          ]
        }
      ]
    },
    {
      "cell_type": "code",
      "source": [
        "acc = history.history['accuracy']\n",
        "val_acc = history.history['val_accuracy']\n",
        "loss = history.history['loss']\n",
        "val_loss = history.history['val_loss']\n",
        "\n",
        "epochs_range = range(10)\n",
        "\n",
        "plt.figure(figsize=(15, 15))\n",
        "plt.subplot(2, 2, 1)\n",
        "plt.plot(epochs_range, acc, label='Training Accuracy')\n",
        "plt.plot(epochs_range, val_acc, label='Validation Accuracy')\n",
        "plt.legend(loc='lower right')\n",
        "plt.title('Training and Validation Accuracy')\n",
        "\n",
        "plt.subplot(2, 2, 2)\n",
        "plt.plot(epochs_range, loss, label='Training Loss')\n",
        "plt.plot(epochs_range, val_loss, label='Validation Loss')\n",
        "plt.legend(loc='upper right')\n",
        "plt.title('Training and Validation Loss')\n",
        "plt.show()"
      ],
      "metadata": {
        "id": "04-LTzNWkjHQ",
        "colab": {
          "base_uri": "https://localhost:8080/",
          "height": 435
        },
        "outputId": "b6e7a77a-92c8-4b4b-e1e7-390f994ba31a"
      },
      "execution_count": null,
      "outputs": [
        {
          "output_type": "display_data",
          "data": {
            "text/plain": [
              "<Figure size 1080x1080 with 2 Axes>"
            ],
            "image/png": "[encoded data removed]"
          },
          "metadata": {
            "needs_background": "light"
          }
        }
      ]
    },
    {
      "cell_type": "code",
      "source": [
        "predict_x=model.predict(a_val)\n",
        "classes_x=np.argmax(predict_x,axis=1)\n",
        "predictions=classes_x.reshape(1,-1)[0]\n",
        "print(classification_report(b_val,predictions, target_names = ['Rugby (Class 0)','Soccer (Class 1)']))"
      ],
      "metadata": {
        "id": "iUU4A4vSkjsW",
        "colab": {
          "base_uri": "https://localhost:8080/"
        },
        "outputId": "026dfe2f-e548-4311-9b05-41125cf4f703"
      },
      "execution_count": null,
      "outputs": [
        {
          "output_type": "stream",
          "name": "stdout",
          "text": [
            "                  precision    recall  f1-score   support\n",
            "\n",
            " Rugby (Class 0)       0.74      0.94      0.83       305\n",
            "Soccer (Class 1)       0.92      0.67      0.78       305\n",
            "\n",
            "        accuracy                           0.81       610\n",
            "       macro avg       0.83      0.81      0.80       610\n",
            "    weighted avg       0.83      0.81      0.80       610\n",
            "\n"
          ]
        }
      ]
    },
    {
      "cell_type": "markdown",
      "source": [
        "Task 1: Run the above code with given dataset.\n",
        "\n",
        "Task 2: Run the code with different dataset\n",
        "\n",
        "\n",
        "\n",
        "\n"
      ],
      "metadata": {
        "id": "oVqtwreQYd7E"
      }
    }
  ]
}