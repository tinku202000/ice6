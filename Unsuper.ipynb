{
  "nbformat": 4,
  "nbformat_minor": 0,
  "metadata": {
    "colab": {
      "provenance": [],
      "collapsed_sections": []
    },
    "kernelspec": {
      "name": "python3",
      "display_name": "Python 3"
    },
    "language_info": {
      "name": "python"
    }
  },
  "cells": [
    {
      "cell_type": "code",
      "execution_count": 1,
      "metadata": {
        "id": "dEfnofdTrUMT",
        "colab": {
          "base_uri": "https://localhost:8080/"
        },
        "outputId": "41f123bb-2e66-4d3a-f2f6-1f03736daf3f"
      },
      "outputs": [
        {
          "output_type": "stream",
          "name": "stdout",
          "text": [
            "Downloading data from https://storage.googleapis.com/tensorflow/tf-keras-datasets/mnist.npz\n",
            "11493376/11490434 [==============================] - 0s 0us/step\n",
            "11501568/11490434 [==============================] - 0s 0us/step\n"
          ]
        }
      ],
      "source": [
        "# Importing the dataset from keras\n",
        "from keras.datasets import mnist\n",
        "import matplotlib.pyplot as plt\n",
        "import numpy as np\n",
        "(a_train, b_train), (a_test, b_test) = mnist.load_data()"
      ]
    },
    {
      "cell_type": "code",
      "source": [
        "# Checking the ‘type’\n",
        "print(type(a_train))\n",
        "print(type(a_test))\n",
        "print(type(b_train))\n",
        "print(type(b_test))"
      ],
      "metadata": {
        "id": "rW2DQ-ELrfAf",
        "colab": {
          "base_uri": "https://localhost:8080/"
        },
        "outputId": "4a76cacc-10c4-441e-88c0-f02adc742b94"
      },
      "execution_count": 2,
      "outputs": [
        {
          "output_type": "stream",
          "name": "stdout",
          "text": [
            "<class 'numpy.ndarray'>\n",
            "<class 'numpy.ndarray'>\n",
            "<class 'numpy.ndarray'>\n",
            "<class 'numpy.ndarray'>\n"
          ]
        }
      ]
    },
    {
      "cell_type": "code",
      "source": [
        "# Checking the shape\n",
        "print(a_train.shape)\n",
        "print(a_test.shape)\n",
        "print(b_train.shape)\n",
        "print(b_test.shape)"
      ],
      "metadata": {
        "id": "p0yjZUEIri28",
        "colab": {
          "base_uri": "https://localhost:8080/"
        },
        "outputId": "506d4b54-b109-4a08-b522-92838727919d"
      },
      "execution_count": 3,
      "outputs": [
        {
          "output_type": "stream",
          "name": "stdout",
          "text": [
            "(60000, 28, 28)\n",
            "(10000, 28, 28)\n",
            "(60000,)\n",
            "(10000,)\n"
          ]
        }
      ]
    },
    {
      "cell_type": "code",
      "source": [
        "plt.gray() \n",
        "plt.figure(figsize = (10,9))\n",
        "\n",
        "for i in range(9):\n",
        " plt.subplot(3,3,i+1)\n",
        " plt.imshow(a_train[i])"
      ],
      "metadata": {
        "id": "zDazUhUzrlDf",
        "colab": {
          "base_uri": "https://localhost:8080/",
          "height": 557
        },
        "outputId": "b16cbcb8-01fd-43dd-b041-e30ed68dab1b"
      },
      "execution_count": 4,
      "outputs": [
        {
          "output_type": "display_data",
          "data": {
            "text/plain": [
              "<Figure size 432x288 with 0 Axes>"
            ]
          },
          "metadata": {}
        },
        {
          "output_type": "display_data",
          "data": {
            "text/plain": [
              "<Figure size 720x648 with 9 Axes>"
            ],
            "image/png": "[encoded data removed]"
          },
          "metadata": {
            "needs_background": "light"
          }
        }
      ]
    },
    {
      "cell_type": "code",
      "source": [
        "\n",
        "for i in range(5):\n",
        "  print(b_train[i])"
      ],
      "metadata": {
        "id": "DF72QXQproan",
        "colab": {
          "base_uri": "https://localhost:8080/"
        },
        "outputId": "55c5202d-1ead-40fd-991c-dd297766fd20"
      },
      "execution_count": 5,
      "outputs": [
        {
          "output_type": "stream",
          "name": "stdout",
          "text": [
            "5\n",
            "0\n",
            "4\n",
            "1\n",
            "9\n"
          ]
        }
      ]
    },
    {
      "cell_type": "code",
      "source": [
        "\n",
        "print(a_train.min())\n",
        "print(a_train.max())"
      ],
      "metadata": {
        "id": "Up7dO8PLrqbj",
        "colab": {
          "base_uri": "https://localhost:8080/"
        },
        "outputId": "86b1dc6c-3ae6-48bd-992b-a40d992dc53e"
      },
      "execution_count": 6,
      "outputs": [
        {
          "output_type": "stream",
          "name": "stdout",
          "text": [
            "0\n",
            "255\n"
          ]
        }
      ]
    },
    {
      "cell_type": "code",
      "source": [
        "\n",
        "a_train = a_train.astype(np.float32) \n",
        "a_test = a_test.astype(np.float32)\n",
        "\n",
        "a_train = a_train/255.0\n",
        "a_test = a_test/255.0"
      ],
      "metadata": {
        "id": "OD37UArfrs1Z"
      },
      "execution_count": 7,
      "outputs": []
    },
    {
      "cell_type": "code",
      "source": [
        "\n",
        "print(a_train.min())\n",
        "print(a_train.max())\n",
        "a_train.shape\n"
      ],
      "metadata": {
        "id": "uj1Abijarutl",
        "colab": {
          "base_uri": "https://localhost:8080/"
        },
        "outputId": "76f8484c-26ea-4b15-a017-01a616c14527"
      },
      "execution_count": 8,
      "outputs": [
        {
          "output_type": "stream",
          "name": "stdout",
          "text": [
            "0.0\n",
            "1.0\n"
          ]
        },
        {
          "output_type": "execute_result",
          "data": {
            "text/plain": [
              "(60000, 28, 28)"
            ]
          },
          "metadata": {},
          "execution_count": 8
        }
      ]
    },
    {
      "cell_type": "code",
      "source": [
        "from sklearn.cluster import MiniBatchKMeans\n",
        "total_clusters = len(np.unique(b_test))\n",
        "\n",
        "kmeans = MiniBatchKMeans(n_clusters = total_clusters)\n",
        "\n",
        "nsamples, na, nb = a_train.shape\n",
        "a_train = a_train.reshape((nsamples,na*nb))\n",
        "kmeans.fit(a_train)"
      ],
      "metadata": {
        "id": "mh2qYMbLrxoF",
        "colab": {
          "base_uri": "https://localhost:8080/"
        },
        "outputId": "d3d8a931-1a95-474c-f28d-81792d1c7f6c"
      },
      "execution_count": 9,
      "outputs": [
        {
          "output_type": "execute_result",
          "data": {
            "text/plain": [
              "MiniBatchKMeans(n_clusters=10)"
            ]
          },
          "metadata": {},
          "execution_count": 9
        }
      ]
    },
    {
      "cell_type": "code",
      "source": [
        "kmeans.labels_\n"
      ],
      "metadata": {
        "id": "BAcKzK9TrzkJ",
        "colab": {
          "base_uri": "https://localhost:8080/"
        },
        "outputId": "09b1dd4f-ea51-45e3-8984-c5208936343c"
      },
      "execution_count": 10,
      "outputs": [
        {
          "output_type": "execute_result",
          "data": {
            "text/plain": [
              "array([2, 3, 0, ..., 2, 8, 6], dtype=int32)"
            ]
          },
          "metadata": {},
          "execution_count": 10
        }
      ]
    },
    {
      "cell_type": "code",
      "source": [
        "def retrieve_info(cluster_labels,b_train):\n",
        " \n",
        "\n",
        "  reference_labels = {}\n",
        "  for i in range(len(np.unique(kmeans.labels_))):\n",
        "    index = np.where(cluster_labels == i,1,0)\n",
        "    num = np.bincount(b_train[index==1]).argmax()\n",
        "    reference_labels[i] = num\n",
        "  return reference_labels"
      ],
      "metadata": {
        "id": "l0KDIo6Br2xQ"
      },
      "execution_count": 11,
      "outputs": []
    },
    {
      "cell_type": "code",
      "source": [
        "reference_labels = retrieve_info(kmeans.labels_,b_train)\n",
        "number_labels = np.random.rand(len(kmeans.labels_))\n",
        "for i in range(len(kmeans.labels_)):\n",
        "  number_labels[i] = reference_labels[kmeans.labels_[i]]"
      ],
      "metadata": {
        "id": "e6owXKfRr8pD"
      },
      "execution_count": 12,
      "outputs": []
    },
    {
      "cell_type": "code",
      "source": [
        "\n",
        "print(number_labels[:20].astype(int))\n",
        "print(b_train[:20])"
      ],
      "metadata": {
        "id": "i3i4xpuAr-zZ",
        "colab": {
          "base_uri": "https://localhost:8080/"
        },
        "outputId": "8573af09-8d9d-43b6-8fbd-e2ec167382b3"
      },
      "execution_count": 13,
      "outputs": [
        {
          "output_type": "stream",
          "name": "stdout",
          "text": [
            "[3 0 4 1 9 9 1 3 1 9 3 1 3 6 1 9 8 9 6 9]\n",
            "[5 0 4 1 9 2 1 3 1 4 3 5 3 6 1 7 2 8 6 9]\n"
          ]
        }
      ]
    },
    {
      "cell_type": "code",
      "source": [
        "\n",
        "from sklearn.metrics import accuracy_score\n",
        "print(accuracy_score(number_labels,b_train))"
      ],
      "metadata": {
        "id": "doa4aLiTsAvV",
        "colab": {
          "base_uri": "https://localhost:8080/"
        },
        "outputId": "616db111-9a9e-4011-8cf0-bc476e0d2e28"
      },
      "execution_count": 14,
      "outputs": [
        {
          "output_type": "stream",
          "name": "stdout",
          "text": [
            "0.5363833333333333\n"
          ]
        }
      ]
    },
    {
      "cell_type": "markdown",
      "source": [
        "Task 1: Run the above code by solving all issues\n",
        "\n",
        "Task 2: Optimize the code to improve the accuracy using given tutorial\n",
        "\n",
        "Task 3: Try to run the code by using differnet dataset(Other than digits)"
      ],
      "metadata": {
        "id": "Wtj0eWnmZTur"
      }
    }
  ]
}